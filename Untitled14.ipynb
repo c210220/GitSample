{
  "nbformat": 4,
  "nbformat_minor": 0,
  "metadata": {
    "colab": {
      "name": "Untitled14.ipynb",
      "provenance": [],
      "collapsed_sections": [],
      "authorship_tag": "ABX9TyMIzkuQ22SohqL+7egwAowI",
      "include_colab_link": true
    },
    "kernelspec": {
      "name": "python3",
      "display_name": "Python 3"
    },
    "language_info": {
      "name": "python"
    }
  },
  "cells": [
    {
      "cell_type": "markdown",
      "metadata": {
        "id": "view-in-github",
        "colab_type": "text"
      },
      "source": [
        "<a href=\"https://colab.research.google.com/github/c210220/GitSample/blob/master/Untitled14.ipynb\" target=\"_parent\"><img src=\"https://colab.research.google.com/assets/colab-badge.svg\" alt=\"Open In Colab\"/></a>"
      ]
    },
    {
      "cell_type": "code",
      "execution_count": null,
      "metadata": {
        "id": "RUyqfibShBaM"
      },
      "outputs": [],
      "source": [
        "def eat(breakfast,lunch,dinner):\n",
        "\n",
        "  print('朝は{}を食べました'.format(breakfast))\n",
        "\n",
        "  print('昼は{}を食べました'.format(lunch))\n",
        "\n",
        "  print('晩は{}を食べました'.format(dinner))\n",
        "\n",
        "  print('8月1日')\n",
        "\n",
        "  eat('トースト','おにぎり','カレー')\n",
        "\n",
        "  print('8月2日')\n",
        "\n",
        "  eat('納豆ごはん','ラーメン','カレー')\n",
        "\n",
        "  print('8月3日')\n",
        "\n",
        "  eat('バナナ','そば','焼肉')\n",
        "\n",
        "  print('8月4日')\n",
        "\n",
        "  eat('サンドウィッチ','しゅうまい弁当','カレー')"
      ]
    },
    {
      "cell_type": "code",
      "source": [
        "!pip3 install ColabTurtle\n",
        "from ColabTurtle.Turtle import *\n",
        "\n",
        "import random\n",
        "initializeTurtle(initial_window_size=(400,300),initial_speed=10)\n",
        "color('blue')\n",
        "bgcolor('lightcyan')\n",
        "\n",
        "penup()\n",
        "width(5)\n",
        "max=1000\n",
        "n=0\n",
        "m=0\n",
        "for i in range(max):\n",
        "      m=m+1\n",
        "      x=random.random()\n",
        "      y=random.random()\n",
        "      if(x*y+y*y<=1):\n",
        "        color('blue')\n",
        "        n=n+1\n",
        "        penup()\n",
        "        setpos(200*x,200*y)\n",
        "        pendown()\n",
        "        setpos(200*x,200*y)\n",
        "      else:\n",
        "        color('red')\n",
        "        penup()\n",
        "        setpos(200*x,200*y)\n",
        "        pendown()\n",
        "        setpos(200*x,200*y)\n",
        "color('green')\n",
        "penup()\n",
        "setpos(220,220)\n",
        "\n",
        "pi_value=4*n/m\n",
        "\n",
        "print(\"%15d\"%max,\"%20.10f\"%pi_value)"
      ],
      "metadata": {
        "id": "xfvRcTWSho0R"
      },
      "execution_count": null,
      "outputs": []
    },
    {
      "cell_type": "code",
      "source": [
        "import random\n",
        "action = [0]*31\n",
        "action[4] = 2\n",
        "action[7] = -3\n",
        "action[12] = 2\n",
        "action[15] = -7\n",
        "action[19] = -1\n",
        "action[22] = 3\n",
        "action[25] = -5\n",
        "action[28] = -1\n",
        "\n",
        "print(action)\n",
        "\n",
        "def saikoro():\n",
        "  k=int(random.random()*6)\n",
        "  if k>=6:\n",
        "     k=6\n",
        "  kk=k+1\n",
        "  return kk\n",
        "goal=30\n",
        "name_users=['あなた','太郎','花子']\n",
        "step1=[0,0,0]\n",
        "print(\"\\n\")\n",
        "trial = 0\n",
        "while step1[0]<goal and step1[1]<goal and step1[2]<goal:\n",
        "  trial += 1\n",
        "  print('サイコロ試行は',trial,'回目　　　')\n",
        "  zz = input('Plesae Enter')\n",
        "  for ii in range(3):\n",
        "    kk=saikoro()\n",
        "    step1[ii] +=kk\n",
        "    if step1[ii] >= goal:\n",
        "       step1[ii] = goal\n",
        "       winner = ii\n",
        "       print (name_users[winner],kk,step1[ii])\n",
        "       break\n",
        "    stepstep=step1[ii]\n",
        "    ddd=action[stepstep]\n",
        "    step1[ii] =step1[ii]+ ddd\n",
        "    if ddd>0:\n",
        "      print(name_users[ii],kk,ddd,step1[ii],'やった')\n",
        "    if ddd<0:\n",
        "      print(name_users[ii],kk,ddd,step1[ii],'がっくり')\n",
        "    if ddd==0:\n",
        "      print(name_users[ii],kk,ddd,step1[ii])\n",
        "print(\"Goal!!\")\n",
        "print(\"Winner is\",name_users[winner])\n",
        "if winner!=0:\n",
        "    print(\"残念でした！\")\n",
        "else:\n",
        "    print(\"おめでとう！\")\n",
        "zzz = input('Please Enter for end')"
      ],
      "metadata": {
        "id": "9thZSr7FhGig"
      },
      "execution_count": null,
      "outputs": []
    },
    {
      "cell_type": "code",
      "source": [
        "initializeTurtle(initial_window_size=(800,600), initial_speed=10)\n",
        "\n",
        "color('blue')\n",
        "\n",
        "bgcolor('lightcyan')\n",
        "\n",
        "\n",
        "\n",
        "shape('turtle')\n",
        "\n",
        "\n",
        "\n",
        "penup()\n",
        "\n",
        "width(8)\n",
        "\n",
        "setpos(300,160)\n",
        "\n",
        "setheading(0)\n",
        "\n",
        "pendown()\n",
        "\n",
        "n=8\n",
        "\n",
        "for i in range(n):\n",
        "\n",
        "    forward(50)\n",
        "\n",
        "    left(360/n)\n",
        "\n",
        "\n",
        "\n",
        "penup()\n",
        "\n",
        "setpos (100,100)\n",
        "\n",
        "setheading(-90)"
      ],
      "metadata": {
        "id": "jVDtaygGhODk",
        "colab": {
          "base_uri": "https://localhost:8080/",
          "height": 620
        },
        "outputId": "60dba1b7-3c15-4ccf-b629-b2885e64fea4"
      },
      "execution_count": 12,
      "outputs": [
        {
          "output_type": "display_data",
          "data": {
            "text/plain": [
              "<IPython.core.display.HTML object>"
            ],
            "text/html": [
              "\n",
              "      <svg width=\"800\" height=\"600\">\n",
              "        <rect width=\"100%\" height=\"100%\" fill=\"lightcyan\"/>\n",
              "        <line x1=\"300\" y1=\"160\" x2=\"350.0\" y2=\"160.0\" stroke-linecap=\"round\" style=\"stroke:blue;stroke-width:8\"/><line x1=\"350.0\" y1=\"160.0\" x2=\"385.355\" y2=\"124.645\" stroke-linecap=\"round\" style=\"stroke:blue;stroke-width:8\"/><line x1=\"385.355\" y1=\"124.645\" x2=\"385.355\" y2=\"74.645\" stroke-linecap=\"round\" style=\"stroke:blue;stroke-width:8\"/><line x1=\"385.355\" y1=\"74.645\" x2=\"350.0\" y2=\"39.29\" stroke-linecap=\"round\" style=\"stroke:blue;stroke-width:8\"/><line x1=\"350.0\" y1=\"39.29\" x2=\"300.0\" y2=\"39.29\" stroke-linecap=\"round\" style=\"stroke:blue;stroke-width:8\"/><line x1=\"300.0\" y1=\"39.29\" x2=\"264.645\" y2=\"74.645\" stroke-linecap=\"round\" style=\"stroke:blue;stroke-width:8\"/><line x1=\"264.645\" y1=\"74.645\" x2=\"264.645\" y2=\"124.645\" stroke-linecap=\"round\" style=\"stroke:blue;stroke-width:8\"/><line x1=\"264.645\" y1=\"124.645\" x2=\"300.0\" y2=\"160.0\" stroke-linecap=\"round\" style=\"stroke:blue;stroke-width:8\"/>\n",
              "        <g visibility=visible transform=\"rotate(360,100,100) translate(82, 82)\">\n",
              "<path style=\" stroke:none;fill-rule:evenodd;fill:blue;fill-opacity:1;\" d=\"M 18.214844 0.632812 C 16.109375 1.800781 15.011719 4.074219 15.074219 7.132812 L 15.085938 7.652344 L 14.785156 7.496094 C 13.476562 6.824219 11.957031 6.671875 10.40625 7.066406 C 8.46875 7.550781 6.515625 9.15625 4.394531 11.992188 C 3.0625 13.777344 2.679688 14.636719 3.042969 15.027344 L 3.15625 15.152344 L 3.519531 15.152344 C 4.238281 15.152344 4.828125 14.886719 8.1875 13.039062 C 9.386719 12.378906 10.371094 11.839844 10.378906 11.839844 C 10.386719 11.839844 10.355469 11.929688 10.304688 12.035156 C 9.832031 13.09375 9.257812 14.820312 8.96875 16.078125 C 7.914062 20.652344 8.617188 24.53125 11.070312 27.660156 C 11.351562 28.015625 11.363281 27.914062 10.972656 28.382812 C 8.925781 30.84375 7.945312 33.28125 8.238281 35.1875 C 8.289062 35.527344 8.28125 35.523438 8.917969 35.523438 C 10.941406 35.523438 13.074219 34.207031 15.136719 31.6875 C 15.359375 31.417969 15.328125 31.425781 15.5625 31.574219 C 16.292969 32.042969 18.023438 32.964844 18.175781 32.964844 C 18.335938 32.964844 19.941406 32.210938 20.828125 31.71875 C 20.996094 31.625 21.136719 31.554688 21.136719 31.558594 C 21.203125 31.664062 21.898438 32.414062 22.222656 32.730469 C 23.835938 34.300781 25.5625 35.132812 27.582031 35.300781 C 27.90625 35.328125 27.9375 35.308594 28.007812 34.984375 C 28.382812 33.242188 27.625 30.925781 25.863281 28.425781 L 25.542969 27.96875 L 25.699219 27.785156 C 28.945312 23.960938 29.132812 18.699219 26.257812 11.96875 L 26.207031 11.84375 L 27.945312 12.703125 C 31.53125 14.476562 32.316406 14.800781 33.03125 14.800781 C 33.976562 14.800781 33.78125 13.9375 32.472656 12.292969 C 28.519531 7.355469 25.394531 5.925781 21.921875 7.472656 L 21.558594 7.636719 L 21.578125 7.542969 C 21.699219 6.992188 21.761719 5.742188 21.699219 5.164062 C 21.496094 3.296875 20.664062 1.964844 19.003906 0.855469 C 18.480469 0.503906 18.457031 0.5 18.214844 0.632812\"/>\n",
              "</g>\n",
              "      </svg>\n",
              "    "
            ]
          },
          "metadata": {}
        }
      ]
    },
    {
      "cell_type": "code",
      "source": [
        "!pip3 install ColabTurtle\n",
        "from ColabTurtle.Turtle import *"
      ],
      "metadata": {
        "colab": {
          "base_uri": "https://localhost:8080/"
        },
        "id": "v-SYPBZP_WOL",
        "outputId": "023e7b64-f956-4267-a0e4-94d2106df98c"
      },
      "execution_count": 9,
      "outputs": [
        {
          "output_type": "stream",
          "name": "stdout",
          "text": [
            "Looking in indexes: https://pypi.org/simple, https://us-python.pkg.dev/colab-wheels/public/simple/\n",
            "Requirement already satisfied: ColabTurtle in /usr/local/lib/python3.7/dist-packages (2.1.0)\n"
          ]
        }
      ]
    }
  ]
}